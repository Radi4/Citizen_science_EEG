{
 "cells": [
  {
   "cell_type": "code",
   "execution_count": 1,
   "metadata": {},
   "outputs": [
    {
     "name": "stdout",
     "output_type": "stream",
     "text": [
      "env: CUDA_VISIBLE_DEVICES=0\n"
     ]
    }
   ],
   "source": [
    "%env CUDA_VISIBLE_DEVICES=0"
   ]
  },
  {
   "cell_type": "code",
   "execution_count": 2,
   "metadata": {
    "scrolled": true
   },
   "outputs": [
    {
     "name": "stderr",
     "output_type": "stream",
     "text": [
      "Using TensorFlow backend.\n"
     ]
    }
   ],
   "source": [
    "from keras.models import Sequential\n",
    "from keras.layers import Dense, Dropout\n",
    "from keras.models import Model\n",
    "from keras.layers import Dense, Input, Conv2D, Flatten, MaxPooling2D, UpSampling2D\n",
    "from keras.callbacks import ModelCheckpoint\n",
    "\n",
    "from mne.io import read_raw_brainvision as mne_read\n",
    "from os.path import join\n",
    "from os import listdir\n",
    "import numpy as np"
   ]
  },
  {
   "cell_type": "code",
   "execution_count": 3,
   "metadata": {
    "collapsed": true
   },
   "outputs": [],
   "source": [
    "channels_num = 60\n",
    "window_size = 500\n",
    "nb_epoch = 50\n",
    "\n",
    "# Hyper parameters\n",
    "batch_size = 32\n",
    "nb_visible = channels_num * window_size\n",
    "nb_hidden = 1000\n",
    "nb_emb = 20\n",
    "\n",
    "corruption_level = 0.001"
   ]
  },
  {
   "cell_type": "code",
   "execution_count": 4,
   "metadata": {
    "collapsed": true
   },
   "outputs": [],
   "source": [
    "mne_format_data_dir = join('data', 'resting_state_mne_format')"
   ]
  },
  {
   "cell_type": "code",
   "execution_count": 5,
   "metadata": {
    "collapsed": true
   },
   "outputs": [],
   "source": [
    "def create_model():\n",
    "    inp = Input(shape=(window_size, channels_num, 1))\n",
    "\n",
    "    encoder = Sequential( [\n",
    "        Conv2D(128, kernel_size=(5,5), activation='relu', padding='same', input_shape=(window_size,channels_num,1)),\n",
    "        MaxPooling2D(),\n",
    "        Conv2D(64, kernel_size=(3,3), activation='relu', padding='same'),\n",
    "        MaxPooling2D(),\n",
    "        Conv2D(1, kernel_size=(1,1), padding='same'),\n",
    "    ] )\n",
    "    print(encoder.summary())\n",
    "    decoder = Sequential((\n",
    "        Conv2D(128, kernel_size=(5,5), activation='relu', padding='same', input_shape=(125, 15, 1) ),\n",
    "        UpSampling2D(),\n",
    "        Conv2D(64, kernel_size=(3,3), activation='relu', padding='same'),\n",
    "        UpSampling2D(),\n",
    "        Conv2D(1, kernel_size=(1,1), padding='same'),\n",
    "    ))\n",
    "    print(decoder.summary())\n",
    "    autoencoder = Model(inp, decoder(encoder(inp)))\n",
    "    autoencoder.compile(loss='mse', optimizer='adam', metrics=['mae'])\n",
    "\n",
    "    print(autoencoder.summary())\n",
    "    return autoencoder"
   ]
  },
  {
   "cell_type": "code",
   "execution_count": 6,
   "metadata": {},
   "outputs": [
    {
     "name": "stdout",
     "output_type": "stream",
     "text": [
      "_________________________________________________________________\n",
      "Layer (type)                 Output Shape              Param #   \n",
      "=================================================================\n",
      "conv2d_1 (Conv2D)            (None, 500, 60, 128)      3328      \n",
      "_________________________________________________________________\n",
      "max_pooling2d_1 (MaxPooling2 (None, 250, 30, 128)      0         \n",
      "_________________________________________________________________\n",
      "conv2d_2 (Conv2D)            (None, 250, 30, 64)       73792     \n",
      "_________________________________________________________________\n",
      "max_pooling2d_2 (MaxPooling2 (None, 125, 15, 64)       0         \n",
      "_________________________________________________________________\n",
      "conv2d_3 (Conv2D)            (None, 125, 15, 1)        65        \n",
      "=================================================================\n",
      "Total params: 77,185\n",
      "Trainable params: 77,185\n",
      "Non-trainable params: 0\n",
      "_________________________________________________________________\n",
      "None\n",
      "_________________________________________________________________\n",
      "Layer (type)                 Output Shape              Param #   \n",
      "=================================================================\n",
      "conv2d_4 (Conv2D)            (None, 125, 15, 128)      3328      \n",
      "_________________________________________________________________\n",
      "up_sampling2d_1 (UpSampling2 (None, 250, 30, 128)      0         \n",
      "_________________________________________________________________\n",
      "conv2d_5 (Conv2D)            (None, 250, 30, 64)       73792     \n",
      "_________________________________________________________________\n",
      "up_sampling2d_2 (UpSampling2 (None, 500, 60, 64)       0         \n",
      "_________________________________________________________________\n",
      "conv2d_6 (Conv2D)            (None, 500, 60, 1)        65        \n",
      "=================================================================\n",
      "Total params: 77,185\n",
      "Trainable params: 77,185\n",
      "Non-trainable params: 0\n",
      "_________________________________________________________________\n",
      "None\n",
      "_________________________________________________________________\n",
      "Layer (type)                 Output Shape              Param #   \n",
      "=================================================================\n",
      "input_1 (InputLayer)         (None, 500, 60, 1)        0         \n",
      "_________________________________________________________________\n",
      "sequential_1 (Sequential)    (None, 125, 15, 1)        77185     \n",
      "_________________________________________________________________\n",
      "sequential_2 (Sequential)    (None, 500, 60, 1)        77185     \n",
      "=================================================================\n",
      "Total params: 154,370\n",
      "Trainable params: 154,370\n",
      "Non-trainable params: 0\n",
      "_________________________________________________________________\n",
      "None\n"
     ]
    }
   ],
   "source": [
    "autoencoder = create_model()"
   ]
  },
  {
   "cell_type": "code",
   "execution_count": 7,
   "metadata": {
    "collapsed": true
   },
   "outputs": [],
   "source": [
    "from sklearn.preprocessing import StandardScaler"
   ]
  },
  {
   "cell_type": "code",
   "execution_count": 8,
   "metadata": {
    "collapsed": true
   },
   "outputs": [],
   "source": [
    "#scaler = StandardScaler()\n",
    "mean, var = None, None\n",
    "\n",
    "def cut_window(data):\n",
    "    return data[:, :data.shape[1] - data.shape[1] % window_size]\n",
    "\n",
    "def read_func(filename, verbose=0):\n",
    "    d = mne_read(filename, verbose=verbose, preload=True)\n",
    "    d.drop_channels(['VEOG', 'HEOG', 'STI 014'])\n",
    "    d = d.get_data()\n",
    "    return cut_window(np.vstack( [d, np.zeros( (2, d.shape[1]) )]) )\n",
    "\n",
    "def read_data(data_type, return_batch_np=False):\n",
    "    global mean, var\n",
    "    ''' If return_batch_np is False\n",
    "            return data with shape (None, batch_size, nb_visible)\n",
    "        else number of batches in data\n",
    "    '''\n",
    "    verbose = None if return_batch_np else 0\n",
    "    \n",
    "    data_dir = join(mne_format_data_dir, data_type)\n",
    "    data = np.hstack([read_func( join(data_dir, fn), verbose=verbose) for fn in listdir(data_dir) if fn[-5:] == '.vhdr'])\n",
    "    \n",
    "    if mean is None:\n",
    "        mean, var = data.mean(), data.var()\n",
    "    #data = scaler.transform(data)\n",
    "    data = (data - mean) / (var ** (1/2))\n",
    "    print(data_type, data.mean(), data.var())\n",
    "    if return_batch_np:\n",
    "        return data.shape[1] // window_size // batch_size\n",
    "    return data.T.reshape(-1, window_size, channels_num, 1)\n",
    "\n",
    "def gen(data_type):\n",
    "    data = read_data(data_type)\n",
    "    print(data.shape)\n",
    "    for ep in range(nb_epoch+1):\n",
    "        for i in range(data.shape[0] // batch_size):\n",
    "            x = data[i*batch_size:(i+1)*batch_size, :, :, :]\n",
    "            yield x, x"
   ]
  },
  {
   "cell_type": "code",
   "execution_count": 10,
   "metadata": {
    "scrolled": true
   },
   "outputs": [
    {
     "name": "stdout",
     "output_type": "stream",
     "text": [
      "Extracting parameters from data/resting_state_mne_format/train/2505_shirokova_post_eeg.vhdr...\n",
      "Setting channel info structure...\n",
      "Reading 0 ... 606599  =      0.000 ...   606.599 secs...\n",
      "Extracting parameters from data/resting_state_mne_format/train/miloslavov_22_05_pre_eeg.vhdr...\n",
      "Setting channel info structure...\n",
      "Reading 0 ... 603399  =      0.000 ...   603.399 secs...\n",
      "Extracting parameters from data/resting_state_mne_format/train/gorin_rest_eeg_post_31011200.vhdr...\n",
      "Setting channel info structure...\n",
      "Reading 0 ... 603699  =      0.000 ...   603.699 secs...\n",
      "Extracting parameters from data/resting_state_mne_format/train/2704_zagirova_post_eeg.vhdr...\n",
      "Setting channel info structure...\n",
      "Reading 0 ... 604549  =      0.000 ...   604.549 secs...\n",
      "Extracting parameters from data/resting_state_mne_format/train/2103_glebko_posteeg.vhdr...\n",
      "Setting channel info structure...\n",
      "Reading 0 ... 633899  =      0.000 ...   633.899 secs...\n",
      "Extracting parameters from data/resting_state_mne_format/train/200317_ivanova_pre_eeg.vhdr...\n",
      "Setting channel info structure...\n",
      "Reading 0 ... 602099  =      0.000 ...   602.099 secs...\n",
      "Extracting parameters from data/resting_state_mne_format/train/gorbacheva_03_02_2017_post_eeg.vhdr...\n",
      "Setting channel info structure...\n",
      "Reading 0 ... 603949  =      0.000 ...   603.949 secs...\n",
      "Extracting parameters from data/resting_state_mne_format/train/2403_kutuzova_pre_eeg.vhdr...\n",
      "Setting channel info structure...\n",
      "Reading 0 ... 602849  =      0.000 ...   602.849 secs...\n",
      "Extracting parameters from data/resting_state_mne_format/train/08021400_post_eeg_shuhova.vhdr...\n",
      "Setting channel info structure...\n",
      "Reading 0 ... 607199  =      0.000 ...   607.199 secs...\n",
      "Extracting parameters from data/resting_state_mne_format/train/2103_kozunova_post_eeg.vhdr...\n",
      "Setting channel info structure...\n",
      "Reading 0 ... 603199  =      0.000 ...   603.199 secs...\n",
      "Extracting parameters from data/resting_state_mne_format/train/shuhova_08022017_rest_eeg.vhdr...\n",
      "Setting channel info structure...\n",
      "Reading 0 ... 637949  =      0.000 ...   637.949 secs...\n",
      "Extracting parameters from data/resting_state_mne_format/train/gorbacheva_03021300_rest_eeg.vhdr...\n",
      "Setting channel info structure...\n",
      "Reading 0 ... 625249  =      0.000 ...   625.249 secs...\n",
      "Extracting parameters from data/resting_state_mne_format/train/pre_egg_petuhova3103.vhdr...\n",
      "Setting channel info structure...\n",
      "Reading 0 ... 602749  =      0.000 ...   602.749 secs...\n",
      "Extracting parameters from data/resting_state_mne_format/train/zavrin_open_eyes_eeg_15021500.vhdr...\n",
      "Setting channel info structure...\n",
      "Reading 0 ... 301999  =      0.000 ...   301.999 secs...\n",
      "Extracting parameters from data/resting_state_mne_format/train/2003_ivanova_post_eeg.vhdr...\n",
      "Setting channel info structure...\n",
      "Reading 0 ... 616599  =      0.000 ...   616.599 secs...\n",
      "Extracting parameters from data/resting_state_mne_format/train/2403_kutuzova_posteeg.vhdr...\n",
      "Setting channel info structure...\n",
      "Reading 0 ... 604199  =      0.000 ...   604.199 secs...\n",
      "Extracting parameters from data/resting_state_mne_format/train/gorin_310117_rest_eeg.vhdr...\n",
      "Setting channel info structure...\n",
      "Reading 0 ... 609999  =      0.000 ...   609.999 secs...\n",
      "Extracting parameters from data/resting_state_mne_format/train/post_eeg_tsoy_2504.vhdr...\n",
      "Setting channel info structure...\n",
      "Reading 0 ... 604949  =      0.000 ...   604.949 secs...\n",
      "Extracting parameters from data/resting_state_mne_format/train/dagaev_post_rest_eeg_30011600.vhdr...\n",
      "Setting channel info structure...\n",
      "Reading 0 ... 603799  =      0.000 ...   603.799 secs...\n",
      "Extracting parameters from data/resting_state_mne_format/train/glebko_2103_pre_eeg.vhdr...\n",
      "Setting channel info structure...\n",
      "Reading 0 ... 643749  =      0.000 ...   643.749 secs...\n",
      "Extracting parameters from data/resting_state_mne_format/train/2505_shirokova.vhdr...\n",
      "Setting channel info structure...\n",
      "Reading 0 ... 604799  =      0.000 ...   604.799 secs...\n",
      "Extracting parameters from data/resting_state_mne_format/train/kozunova_pre_eeg_2103.vhdr...\n",
      "Setting channel info structure...\n",
      "Reading 0 ... 602849  =      0.000 ...   602.849 secs...\n",
      "Extracting parameters from data/resting_state_mne_format/train/bagaeva_post_eeg_13031500.vhdr...\n",
      "Setting channel info structure...\n",
      "Reading 0 ... 603899  =      0.000 ...   603.899 secs...\n",
      "Extracting parameters from data/resting_state_mne_format/train/bagaeva_13021500_rest_eeg.vhdr...\n",
      "Setting channel info structure...\n",
      "Reading 0 ... 603949  =      0.000 ...   603.949 secs...\n",
      "Extracting parameters from data/resting_state_mne_format/train/zagirova_pre_eeg_2704.vhdr...\n",
      "Setting channel info structure...\n",
      "Reading 0 ... 607549  =      0.000 ...   607.549 secs...\n",
      "train -6.34378883316e-16 1.0\n",
      "Extracting parameters from data/resting_state_mne_format/validation/3103_petuhova_posteeg.vhdr...\n",
      "Setting channel info structure...\n",
      "Reading 0 ... 630049  =      0.000 ...   630.049 secs...\n",
      "Extracting parameters from data/resting_state_mne_format/validation/zavrib_post_eeg_eyesopen15021500.vhdr...\n",
      "Setting channel info structure...\n",
      "Reading 0 ... 321599  =      0.000 ...   321.599 secs...\n",
      "Extracting parameters from data/resting_state_mne_format/validation/2205_miloslavov_post_eeg.vhdr...\n",
      "Setting channel info structure...\n",
      "Reading 0 ... 623249  =      0.000 ...   623.249 secs...\n",
      "validation -0.164368573828 0.135983946103\n"
     ]
    }
   ],
   "source": [
    "train_batches_nb = read_data('train', return_batch_np=True)\n",
    "val_batches_nb = read_data('validation', return_batch_np=True)"
   ]
  },
  {
   "cell_type": "code",
   "execution_count": 11,
   "metadata": {
    "scrolled": true
   },
   "outputs": [
    {
     "name": "stdout",
     "output_type": "stream",
     "text": [
      "Epoch 1/50\n",
      "train -6.34378883316e-16 1.0\n",
      "(29879, 500, 60, 1)\n",
      "932/933 [============================>.] - ETA: 0s - loss: 0.6052 - mean_absolute_error: 0.2604validation -0.164368573828 0.135983946103\n",
      "(3149, 500, 60, 1)\n",
      "933/933 [==============================] - 394s - loss: 0.6046 - mean_absolute_error: 0.2603 - val_loss: 0.1057 - val_mean_absolute_error: 0.2577\n",
      "Epoch 2/50\n",
      "933/933 [==============================] - 349s - loss: 0.5680 - mean_absolute_error: 0.2470 - val_loss: 0.0953 - val_mean_absolute_error: 0.2452\n",
      "Epoch 3/50\n",
      "933/933 [==============================] - 349s - loss: 0.5183 - mean_absolute_error: 0.2336 - val_loss: 0.0901 - val_mean_absolute_error: 0.2411\n",
      "Epoch 4/50\n",
      "933/933 [==============================] - 350s - loss: 0.5124 - mean_absolute_error: 0.2287 - val_loss: 0.0903 - val_mean_absolute_error: 0.2402\n",
      "Epoch 5/50\n",
      "933/933 [==============================] - 349s - loss: 0.5103 - mean_absolute_error: 0.2263 - val_loss: 0.0916 - val_mean_absolute_error: 0.2418\n",
      "Epoch 6/50\n",
      "933/933 [==============================] - 349s - loss: 0.5110 - mean_absolute_error: 0.2259 - val_loss: 0.0875 - val_mean_absolute_error: 0.2390\n",
      "Epoch 7/50\n",
      "933/933 [==============================] - 348s - loss: 0.5122 - mean_absolute_error: 0.2265 - val_loss: 0.0919 - val_mean_absolute_error: 0.2398\n",
      "Epoch 8/50\n",
      "933/933 [==============================] - 348s - loss: 0.5095 - mean_absolute_error: 0.2253 - val_loss: 0.0886 - val_mean_absolute_error: 0.2380\n",
      "Epoch 9/50\n",
      "933/933 [==============================] - 349s - loss: 0.5090 - mean_absolute_error: 0.2240 - val_loss: 0.0953 - val_mean_absolute_error: 0.2481\n",
      "Epoch 10/50\n",
      "933/933 [==============================] - 348s - loss: 0.5090 - mean_absolute_error: 0.2228 - val_loss: 0.0936 - val_mean_absolute_error: 0.2462\n",
      "Epoch 11/50\n",
      "933/933 [==============================] - 348s - loss: 0.5091 - mean_absolute_error: 0.2230 - val_loss: 0.0930 - val_mean_absolute_error: 0.2504\n",
      "Epoch 12/50\n",
      "933/933 [==============================] - 348s - loss: 0.5082 - mean_absolute_error: 0.2225 - val_loss: 0.1102 - val_mean_absolute_error: 0.2640\n",
      "Epoch 13/50\n",
      "933/933 [==============================] - 347s - loss: 0.5094 - mean_absolute_error: 0.2220 - val_loss: 0.0980 - val_mean_absolute_error: 0.2495\n",
      "Epoch 14/50\n",
      "933/933 [==============================] - 347s - loss: 0.5075 - mean_absolute_error: 0.2201 - val_loss: 0.0864 - val_mean_absolute_error: 0.2385\n",
      "Epoch 15/50\n",
      "933/933 [==============================] - 347s - loss: 0.5066 - mean_absolute_error: 0.2188 - val_loss: 0.0930 - val_mean_absolute_error: 0.2445\n",
      "Epoch 16/50\n",
      "933/933 [==============================] - 346s - loss: 0.5075 - mean_absolute_error: 0.2191 - val_loss: 0.0918 - val_mean_absolute_error: 0.2501\n",
      "Epoch 17/50\n",
      "933/933 [==============================] - 346s - loss: 0.5071 - mean_absolute_error: 0.2195 - val_loss: 0.0908 - val_mean_absolute_error: 0.2402\n",
      "Epoch 18/50\n",
      "933/933 [==============================] - 346s - loss: 0.5061 - mean_absolute_error: 0.2179 - val_loss: 0.0953 - val_mean_absolute_error: 0.2470\n",
      "Epoch 19/50\n",
      "933/933 [==============================] - 347s - loss: 0.5056 - mean_absolute_error: 0.2180 - val_loss: 0.0921 - val_mean_absolute_error: 0.2435\n",
      "Epoch 20/50\n",
      "933/933 [==============================] - 346s - loss: 0.5058 - mean_absolute_error: 0.2172 - val_loss: 0.0853 - val_mean_absolute_error: 0.2330\n",
      "Epoch 21/50\n",
      "933/933 [==============================] - 345s - loss: 0.5052 - mean_absolute_error: 0.2161 - val_loss: 0.0859 - val_mean_absolute_error: 0.2361\n",
      "Epoch 22/50\n",
      "933/933 [==============================] - 346s - loss: 0.5066 - mean_absolute_error: 0.2160 - val_loss: 0.0914 - val_mean_absolute_error: 0.2421\n",
      "Epoch 23/50\n",
      "933/933 [==============================] - 345s - loss: 0.5044 - mean_absolute_error: 0.2150 - val_loss: 0.0919 - val_mean_absolute_error: 0.2436\n",
      "Epoch 24/50\n",
      "933/933 [==============================] - 345s - loss: 0.5047 - mean_absolute_error: 0.2141 - val_loss: 0.0942 - val_mean_absolute_error: 0.2417\n",
      "Epoch 25/50\n",
      "933/933 [==============================] - 345s - loss: 0.5048 - mean_absolute_error: 0.2150 - val_loss: 0.0844 - val_mean_absolute_error: 0.2386\n",
      "Epoch 26/50\n",
      "933/933 [==============================] - 345s - loss: 0.5056 - mean_absolute_error: 0.2150 - val_loss: 0.0926 - val_mean_absolute_error: 0.2425\n",
      "Epoch 27/50\n",
      "933/933 [==============================] - 346s - loss: 0.5045 - mean_absolute_error: 0.2143 - val_loss: 0.0955 - val_mean_absolute_error: 0.2461\n",
      "Epoch 28/50\n",
      "933/933 [==============================] - 345s - loss: 0.5042 - mean_absolute_error: 0.2140 - val_loss: 0.0854 - val_mean_absolute_error: 0.2395\n",
      "Epoch 29/50\n",
      "933/933 [==============================] - 344s - loss: 0.5036 - mean_absolute_error: 0.2136 - val_loss: 0.0864 - val_mean_absolute_error: 0.2388\n",
      "Epoch 30/50\n",
      "933/933 [==============================] - 344s - loss: 0.5044 - mean_absolute_error: 0.2133 - val_loss: 0.0899 - val_mean_absolute_error: 0.2454\n",
      "Epoch 31/50\n",
      "933/933 [==============================] - 345s - loss: 0.5036 - mean_absolute_error: 0.2128 - val_loss: 0.0904 - val_mean_absolute_error: 0.2442\n",
      "Epoch 32/50\n",
      "933/933 [==============================] - 344s - loss: 0.5031 - mean_absolute_error: 0.2127 - val_loss: 0.0955 - val_mean_absolute_error: 0.2528\n",
      "Epoch 33/50\n",
      "933/933 [==============================] - 344s - loss: 0.5027 - mean_absolute_error: 0.2119 - val_loss: 0.0981 - val_mean_absolute_error: 0.2532\n",
      "Epoch 34/50\n",
      "933/933 [==============================] - 345s - loss: 0.5029 - mean_absolute_error: 0.2120 - val_loss: 0.0965 - val_mean_absolute_error: 0.2498\n",
      "Epoch 35/50\n",
      "933/933 [==============================] - 345s - loss: 0.5025 - mean_absolute_error: 0.2115 - val_loss: 0.0889 - val_mean_absolute_error: 0.2409\n",
      "Epoch 36/50\n",
      "933/933 [==============================] - 344s - loss: 0.5024 - mean_absolute_error: 0.2112 - val_loss: 0.0906 - val_mean_absolute_error: 0.2420\n",
      "Epoch 37/50\n",
      "933/933 [==============================] - 345s - loss: 0.5020 - mean_absolute_error: 0.2106 - val_loss: 0.0884 - val_mean_absolute_error: 0.2373\n",
      "Epoch 38/50\n",
      "933/933 [==============================] - 345s - loss: 0.5042 - mean_absolute_error: 0.2124 - val_loss: 0.0915 - val_mean_absolute_error: 0.2423\n",
      "Epoch 39/50\n",
      "933/933 [==============================] - 344s - loss: 0.5038 - mean_absolute_error: 0.2119 - val_loss: 0.1003 - val_mean_absolute_error: 0.2441\n",
      "Epoch 40/50\n",
      "933/933 [==============================] - 345s - loss: 0.5026 - mean_absolute_error: 0.2111 - val_loss: 0.0935 - val_mean_absolute_error: 0.2393\n",
      "Epoch 41/50\n",
      "933/933 [==============================] - 344s - loss: 0.5024 - mean_absolute_error: 0.2111 - val_loss: 0.0911 - val_mean_absolute_error: 0.2358\n",
      "Epoch 42/50\n",
      "933/933 [==============================] - 344s - loss: 0.5022 - mean_absolute_error: 0.2106 - val_loss: 0.0883 - val_mean_absolute_error: 0.2342\n",
      "Epoch 43/50\n",
      "933/933 [==============================] - 344s - loss: 0.5024 - mean_absolute_error: 0.2105 - val_loss: 0.0908 - val_mean_absolute_error: 0.2379\n",
      "Epoch 44/50\n",
      "933/933 [==============================] - 344s - loss: 0.5019 - mean_absolute_error: 0.2099 - val_loss: 0.0922 - val_mean_absolute_error: 0.2364\n",
      "Epoch 45/50\n",
      "933/933 [==============================] - 344s - loss: 0.5022 - mean_absolute_error: 0.2110 - val_loss: 0.0909 - val_mean_absolute_error: 0.2362\n",
      "Epoch 46/50\n",
      "933/933 [==============================] - 344s - loss: 0.5018 - mean_absolute_error: 0.2099 - val_loss: 0.0945 - val_mean_absolute_error: 0.2391\n",
      "Epoch 47/50\n",
      "932/933 [============================>.] - ETA: 0s - loss: 0.5038 - mean_absolute_error: 0.2102"
     ]
    },
    {
     "name": "stderr",
     "output_type": "stream",
     "text": [
      "Exception in thread Thread-51:\n",
      "Traceback (most recent call last):\n",
      "  File \"/opt/conda/anaconda3/lib/python3.6/threading.py\", line 916, in _bootstrap_inner\n",
      "    self.run()\n",
      "  File \"/opt/conda/anaconda3/lib/python3.6/threading.py\", line 864, in run\n",
      "    self._target(*self._args, **self._kwargs)\n",
      "  File \"/opt/conda/anaconda3/lib/python3.6/site-packages/keras/utils/data_utils.py\", line 560, in data_generator_task\n",
      "    generator_output = next(self._generator)\n",
      "StopIteration\n",
      "\n"
     ]
    },
    {
     "ename": "StopIteration",
     "evalue": "",
     "output_type": "error",
     "traceback": [
      "\u001b[0;31m---------------------------------------------------------------------------\u001b[0m",
      "\u001b[0;31mStopIteration\u001b[0m                             Traceback (most recent call last)",
      "\u001b[0;32m<ipython-input-11-980e1844caf2>\u001b[0m in \u001b[0;36m<module>\u001b[0;34m()\u001b[0m\n\u001b[1;32m      1\u001b[0m history = autoencoder.fit_generator(gen('train'), steps_per_epoch=train_batches_nb, epochs=nb_epoch,                           validation_data=gen('validation'), validation_steps=val_batches_nb,                           #use_multiprocessing=True, \\\n\u001b[0;32m----> 2\u001b[0;31m                           callbacks=[ModelCheckpoint(\"models/cnn_%s_{epoch:02d}.hdf5\"%str(nb_hidden), save_best_only=False)])\n\u001b[0m",
      "\u001b[0;32m/opt/conda/anaconda3/lib/python3.6/site-packages/keras/legacy/interfaces.py\u001b[0m in \u001b[0;36mwrapper\u001b[0;34m(*args, **kwargs)\u001b[0m\n\u001b[1;32m     85\u001b[0m                 warnings.warn('Update your `' + object_name +\n\u001b[1;32m     86\u001b[0m                               '` call to the Keras 2 API: ' + signature, stacklevel=2)\n\u001b[0;32m---> 87\u001b[0;31m             \u001b[0;32mreturn\u001b[0m \u001b[0mfunc\u001b[0m\u001b[0;34m(\u001b[0m\u001b[0;34m*\u001b[0m\u001b[0margs\u001b[0m\u001b[0;34m,\u001b[0m \u001b[0;34m**\u001b[0m\u001b[0mkwargs\u001b[0m\u001b[0;34m)\u001b[0m\u001b[0;34m\u001b[0m\u001b[0m\n\u001b[0m\u001b[1;32m     88\u001b[0m         \u001b[0mwrapper\u001b[0m\u001b[0;34m.\u001b[0m\u001b[0m_original_function\u001b[0m \u001b[0;34m=\u001b[0m \u001b[0mfunc\u001b[0m\u001b[0;34m\u001b[0m\u001b[0m\n\u001b[1;32m     89\u001b[0m         \u001b[0;32mreturn\u001b[0m \u001b[0mwrapper\u001b[0m\u001b[0;34m\u001b[0m\u001b[0m\n",
      "\u001b[0;32m/opt/conda/anaconda3/lib/python3.6/site-packages/keras/engine/training.py\u001b[0m in \u001b[0;36mfit_generator\u001b[0;34m(self, generator, steps_per_epoch, epochs, verbose, callbacks, validation_data, validation_steps, class_weight, max_queue_size, workers, use_multiprocessing, initial_epoch)\u001b[0m\n\u001b[1;32m   1860\u001b[0m                                 \u001b[0mmax_queue_size\u001b[0m\u001b[0;34m=\u001b[0m\u001b[0mmax_queue_size\u001b[0m\u001b[0;34m,\u001b[0m\u001b[0;34m\u001b[0m\u001b[0m\n\u001b[1;32m   1861\u001b[0m                                 \u001b[0mworkers\u001b[0m\u001b[0;34m=\u001b[0m\u001b[0mworkers\u001b[0m\u001b[0;34m,\u001b[0m\u001b[0;34m\u001b[0m\u001b[0m\n\u001b[0;32m-> 1862\u001b[0;31m                                 use_multiprocessing=use_multiprocessing)\n\u001b[0m\u001b[1;32m   1863\u001b[0m                         \u001b[0;32melse\u001b[0m\u001b[0;34m:\u001b[0m\u001b[0;34m\u001b[0m\u001b[0m\n\u001b[1;32m   1864\u001b[0m                             \u001b[0;31m# No need for try/except because\u001b[0m\u001b[0;34m\u001b[0m\u001b[0;34m\u001b[0m\u001b[0m\n",
      "\u001b[0;32m/opt/conda/anaconda3/lib/python3.6/site-packages/keras/legacy/interfaces.py\u001b[0m in \u001b[0;36mwrapper\u001b[0;34m(*args, **kwargs)\u001b[0m\n\u001b[1;32m     85\u001b[0m                 warnings.warn('Update your `' + object_name +\n\u001b[1;32m     86\u001b[0m                               '` call to the Keras 2 API: ' + signature, stacklevel=2)\n\u001b[0;32m---> 87\u001b[0;31m             \u001b[0;32mreturn\u001b[0m \u001b[0mfunc\u001b[0m\u001b[0;34m(\u001b[0m\u001b[0;34m*\u001b[0m\u001b[0margs\u001b[0m\u001b[0;34m,\u001b[0m \u001b[0;34m**\u001b[0m\u001b[0mkwargs\u001b[0m\u001b[0;34m)\u001b[0m\u001b[0;34m\u001b[0m\u001b[0m\n\u001b[0m\u001b[1;32m     88\u001b[0m         \u001b[0mwrapper\u001b[0m\u001b[0;34m.\u001b[0m\u001b[0m_original_function\u001b[0m \u001b[0;34m=\u001b[0m \u001b[0mfunc\u001b[0m\u001b[0;34m\u001b[0m\u001b[0m\n\u001b[1;32m     89\u001b[0m         \u001b[0;32mreturn\u001b[0m \u001b[0mwrapper\u001b[0m\u001b[0;34m\u001b[0m\u001b[0m\n",
      "\u001b[0;32m/opt/conda/anaconda3/lib/python3.6/site-packages/keras/engine/training.py\u001b[0m in \u001b[0;36mevaluate_generator\u001b[0;34m(self, generator, steps, max_queue_size, workers, use_multiprocessing)\u001b[0m\n\u001b[1;32m   1953\u001b[0m \u001b[0;34m\u001b[0m\u001b[0m\n\u001b[1;32m   1954\u001b[0m             \u001b[0;32mwhile\u001b[0m \u001b[0msteps_done\u001b[0m \u001b[0;34m<\u001b[0m \u001b[0msteps\u001b[0m\u001b[0;34m:\u001b[0m\u001b[0;34m\u001b[0m\u001b[0m\n\u001b[0;32m-> 1955\u001b[0;31m                 \u001b[0mgenerator_output\u001b[0m \u001b[0;34m=\u001b[0m \u001b[0mnext\u001b[0m\u001b[0;34m(\u001b[0m\u001b[0moutput_generator\u001b[0m\u001b[0;34m)\u001b[0m\u001b[0;34m\u001b[0m\u001b[0m\n\u001b[0m\u001b[1;32m   1956\u001b[0m                 \u001b[0;32mif\u001b[0m \u001b[0;32mnot\u001b[0m \u001b[0mhasattr\u001b[0m\u001b[0;34m(\u001b[0m\u001b[0mgenerator_output\u001b[0m\u001b[0;34m,\u001b[0m \u001b[0;34m'__len__'\u001b[0m\u001b[0;34m)\u001b[0m\u001b[0;34m:\u001b[0m\u001b[0;34m\u001b[0m\u001b[0m\n\u001b[1;32m   1957\u001b[0m                     raise ValueError('Output of generator should be a tuple '\n",
      "\u001b[0;31mStopIteration\u001b[0m: "
     ]
    }
   ],
   "source": [
    "history = autoencoder.fit_generator(gen('train'), steps_per_epoch=train_batches_nb, epochs=nb_epoch, \\\n",
    "                          validation_data=gen('validation'), validation_steps=val_batches_nb, \\\n",
    "                          #use_multiprocessing=True, \\\n",
    "                          callbacks=[ModelCheckpoint(\"models/cnn_%s_{epoch:02d}.hdf5\"%str(nb_hidden), save_best_only=False)])"
   ]
  },
  {
   "cell_type": "code",
   "execution_count": null,
   "metadata": {},
   "outputs": [],
   "source": []
  },
  {
   "cell_type": "code",
   "execution_count": null,
   "metadata": {},
   "outputs": [],
   "source": []
  },
  {
   "cell_type": "code",
   "execution_count": 9,
   "metadata": {},
   "outputs": [
    {
     "name": "stdout",
     "output_type": "stream",
     "text": [
      "Extracting parameters from data/resting_state_mne_format/test/zavrin_eyes_closed_eeg_15021500.vhdr...\n",
      "Setting channel info structure...\n",
      "Reading 0 ... 302749  =      0.000 ...   302.749 secs...\n",
      "Extracting parameters from data/resting_state_mne_format/test/zavrin_15021500_eyesclosed_post_eeg.vhdr...\n",
      "Setting channel info structure...\n",
      "Reading 0 ... 319299  =      0.000 ...   319.299 secs...\n",
      "Extracting parameters from data/resting_state_mne_format/test/300120171600_dagaev_rest_eeg.vhdr...\n",
      "Setting channel info structure...\n",
      "Reading 0 ... 615599  =      0.000 ...   615.599 secs...\n",
      "Extracting parameters from data/resting_state_mne_format/test/tsoy_pre_eeg_2504.vhdr...\n",
      "Setting channel info structure...\n",
      "Reading 0 ... 652699  =      0.000 ...   652.699 secs...\n",
      "test 5.32180965766e-17 1.0\n"
     ]
    }
   ],
   "source": [
    "test_batches_nb = read_data('test', return_batch_np=True)"
   ]
  },
  {
   "cell_type": "code",
   "execution_count": 10,
   "metadata": {
    "collapsed": true
   },
   "outputs": [],
   "source": [
    "from keras.models import load_model\n",
    "autoencoder = load_model('models/cnn_1000_06.hdf5')"
   ]
  },
  {
   "cell_type": "code",
   "execution_count": 11,
   "metadata": {},
   "outputs": [
    {
     "name": "stdout",
     "output_type": "stream",
     "text": [
      "test 5.32180965766e-17 1.0\n",
      "(3779, 500, 60, 1)\n"
     ]
    },
    {
     "data": {
      "text/plain": [
       "[0.60504258853399151, 0.58064251835063352]"
      ]
     },
     "execution_count": 11,
     "metadata": {},
     "output_type": "execute_result"
    }
   ],
   "source": [
    "autoencoder.evaluate_generator(gen('test'), steps=test_batches_nb)"
   ]
  },
  {
   "cell_type": "code",
   "execution_count": 12,
   "metadata": {},
   "outputs": [
    {
     "data": {
      "text/plain": [
       "['loss', 'mean_absolute_error']"
      ]
     },
     "execution_count": 12,
     "metadata": {},
     "output_type": "execute_result"
    }
   ],
   "source": [
    "autoencoder.metrics_names"
   ]
  }
 ],
 "metadata": {
  "kernelspec": {
   "display_name": "Python 3",
   "language": "python",
   "name": "python3"
  },
  "language_info": {
   "codemirror_mode": {
    "name": "ipython",
    "version": 3
   },
   "file_extension": ".py",
   "mimetype": "text/x-python",
   "name": "python",
   "nbconvert_exporter": "python",
   "pygments_lexer": "ipython3",
   "version": "3.6.3"
  }
 },
 "nbformat": 4,
 "nbformat_minor": 1
}
